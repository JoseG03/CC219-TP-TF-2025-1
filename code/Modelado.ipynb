{
 "cells": [
  {
   "cell_type": "markdown",
   "id": "7c496dac",
   "metadata": {},
   "source": [
    "### **IMPORTAR LIBRERIAS**"
   ]
  },
  {
   "cell_type": "code",
   "execution_count": 1,
   "id": "29b27381",
   "metadata": {},
   "outputs": [],
   "source": [
    "import pandas as pd\n",
    "from sklearn.model_selection import train_test_split\n",
    "from sklearn.feature_extraction.text import TfidfVectorizer\n",
    "from sklearn.naive_bayes import MultinomialNB\n",
    "from sklearn.linear_model import LogisticRegression\n",
    "from sklearn.metrics import classification_report, confusion_matrix\n",
    "import seaborn as sns\n",
    "import matplotlib.pyplot as plt"
   ]
  },
  {
   "cell_type": "markdown",
   "id": "44a56007",
   "metadata": {},
   "source": [
    "### **CARGAR DATASET**"
   ]
  },
  {
   "cell_type": "code",
   "execution_count": 2,
   "id": "860b15e3",
   "metadata": {},
   "outputs": [],
   "source": [
    "df = pd.read_csv(\"../data/amazon_reviews_es_clean_spacy.csv\")"
   ]
  },
  {
   "cell_type": "markdown",
   "id": "bba7552e",
   "metadata": {},
   "source": [
    "## **PROCESAMIENTO BASICO**"
   ]
  },
  {
   "cell_type": "code",
   "execution_count": 3,
   "id": "df8b78e4",
   "metadata": {},
   "outputs": [],
   "source": [
    "# Eliminar filas sin texto limpio\n",
    "df = df.dropna(subset=[\"clean_body\", \"stars\"])\n",
    "\n",
    "# Filtrar reseñas con calificación 1-2 (negativas) y 4-5 (positivas)\n",
    "df = df[df[\"stars\"] != 3]\n",
    "\n",
    "# Crear variable de sentimiento\n",
    "df[\"sentiment\"] = df[\"stars\"].apply(lambda x: \"neg\" if x <= 2 else \"pos\")"
   ]
  },
  {
   "cell_type": "markdown",
   "id": "329d506e",
   "metadata": {},
   "source": [
    "## **SEPARAR VARIABLES**"
   ]
  },
  {
   "cell_type": "code",
   "execution_count": 4,
   "id": "2154c95c",
   "metadata": {},
   "outputs": [],
   "source": [
    "X = df[\"clean_body\"]              # Texto\n",
    "y = df[\"sentiment\"]              # Etiqueta: pos o neg"
   ]
  },
  {
   "cell_type": "markdown",
   "id": "808b8d28",
   "metadata": {},
   "source": [
    "## **DIVIDIR EN TRAIN Y TEST**"
   ]
  },
  {
   "cell_type": "code",
   "execution_count": 5,
   "id": "766aa00b",
   "metadata": {},
   "outputs": [],
   "source": [
    "X_train, X_test, y_train, y_test = train_test_split(\n",
    "    X, y, test_size=0.2, random_state=42\n",
    ")"
   ]
  },
  {
   "cell_type": "markdown",
   "id": "5eb6c169",
   "metadata": {},
   "source": [
    "## **VECTORIZAR EL TEXTO (TF-IDF)**"
   ]
  },
  {
   "cell_type": "code",
   "execution_count": 6,
   "id": "961f578e",
   "metadata": {},
   "outputs": [],
   "source": [
    "vectorizer = TfidfVectorizer(max_features=5000)\n",
    "X_train_vec = vectorizer.fit_transform(X_train)\n",
    "X_test_vec = vectorizer.transform(X_test)"
   ]
  },
  {
   "cell_type": "markdown",
   "id": "b285ba39",
   "metadata": {},
   "source": [
    "## **ENTRENAR MODELOS**"
   ]
  },
  {
   "cell_type": "code",
   "execution_count": 7,
   "id": "960fa0fa",
   "metadata": {},
   "outputs": [],
   "source": [
    "# Naive Bayes\n",
    "nb_model = MultinomialNB()\n",
    "nb_model.fit(X_train_vec, y_train)\n",
    "nb_preds = nb_model.predict(X_test_vec)\n",
    "\n",
    "# Regresión Logística\n",
    "lr_model = LogisticRegression(max_iter=1000)\n",
    "lr_model.fit(X_train_vec, y_train)\n",
    "lr_preds = lr_model.predict(X_test_vec)\n"
   ]
  },
  {
   "cell_type": "markdown",
   "id": "2f1ce426",
   "metadata": {},
   "source": [
    "## **EVALUAR MODELOS (MOSTRAMOS LAS METRICAS)**"
   ]
  },
  {
   "cell_type": "code",
   "execution_count": 8,
   "id": "77b9a80c",
   "metadata": {},
   "outputs": [
    {
     "data": {
      "text/plain": [
       "({'neg': {'precision': 0.8321237929586757,\n",
       "   'recall': 0.82904093217807,\n",
       "   'f1-score': 0.8305795019157088,\n",
       "   'support': 16735.0},\n",
       "  'pos': {'precision': 0.8307701407784218,\n",
       "   'recall': 0.833828069342199,\n",
       "   'f1-score': 0.8322962962962963,\n",
       "   'support': 16844.0},\n",
       "  'accuracy': 0.8314422704666607,\n",
       "  'macro avg': {'precision': 0.8314469668685487,\n",
       "   'recall': 0.8314345007601345,\n",
       "   'f1-score': 0.8314378991060025,\n",
       "   'support': 33579.0},\n",
       "  'weighted avg': {'precision': 0.8314447698393393,\n",
       "   'recall': 0.8314422704666607,\n",
       "   'f1-score': 0.8314406855288782,\n",
       "   'support': 33579.0}},\n",
       " {'neg': {'precision': 0.8380851812741992,\n",
       "   'recall': 0.8536599940244995,\n",
       "   'f1-score': 0.8458008939936651,\n",
       "   'support': 16735.0},\n",
       "  'pos': {'precision': 0.8518720135486603,\n",
       "   'recall': 0.8361434338636904,\n",
       "   'f1-score': 0.8439344458759026,\n",
       "   'support': 16844.0},\n",
       "  'accuracy': 0.8448732838976741,\n",
       "  'macro avg': {'precision': 0.8449785974114297,\n",
       "   'recall': 0.844901713944095,\n",
       "   'f1-score': 0.8448676699347839,\n",
       "   'support': 33579.0},\n",
       "  'weighted avg': {'precision': 0.845000973966984,\n",
       "   'recall': 0.8448732838976741,\n",
       "   'f1-score': 0.8448646406181748,\n",
       "   'support': 33579.0}},\n",
       " array([[14286,  2449],\n",
       "        [ 2760, 14084]], dtype=int64))"
      ]
     },
     "execution_count": 8,
     "metadata": {},
     "output_type": "execute_result"
    }
   ],
   "source": [
    "# Metricas en texto limpio\n",
    "nb_report = classification_report(y_test, nb_preds, output_dict=True)\n",
    "lr_report = classification_report(y_test, lr_preds, output_dict=True)\n",
    "\n",
    "# Matriz de confusión para LR en texto limpio\n",
    "lr_cm = confusion_matrix(y_test, lr_preds)\n",
    "\n",
    "(nb_report, lr_report, lr_cm)"
   ]
  },
  {
   "cell_type": "code",
   "execution_count": 9,
   "id": "ce12ca92",
   "metadata": {},
   "outputs": [
    {
     "name": "stdout",
     "output_type": "stream",
     "text": [
      "🔍 Resultados - Naive Bayes:\n",
      "              precision    recall  f1-score   support\n",
      "\n",
      "         neg       0.83      0.83      0.83     16735\n",
      "         pos       0.83      0.83      0.83     16844\n",
      "\n",
      "    accuracy                           0.83     33579\n",
      "   macro avg       0.83      0.83      0.83     33579\n",
      "weighted avg       0.83      0.83      0.83     33579\n",
      "\n",
      "🔍 Resultados - Regresión Logística:\n",
      "              precision    recall  f1-score   support\n",
      "\n",
      "         neg       0.84      0.85      0.85     16735\n",
      "         pos       0.85      0.84      0.84     16844\n",
      "\n",
      "    accuracy                           0.84     33579\n",
      "   macro avg       0.84      0.84      0.84     33579\n",
      "weighted avg       0.85      0.84      0.84     33579\n",
      "\n"
     ]
    }
   ],
   "source": [
    "# Comparacion de resultados\n",
    "print(\"🔍 Resultados - Naive Bayes:\")\n",
    "print(classification_report(y_test, nb_preds))\n",
    "\n",
    "print(\"🔍 Resultados - Regresión Logística:\")\n",
    "print(classification_report(y_test, lr_preds))"
   ]
  },
  {
   "cell_type": "markdown",
   "id": "9f6a670a",
   "metadata": {},
   "source": [
    "## **MATRIZ DE CONFUSION - DE LA REGRESION LOGISTICA**"
   ]
  },
  {
   "cell_type": "code",
   "execution_count": 10,
   "id": "c8facaae",
   "metadata": {},
   "outputs": [
    {
     "data": {
      "image/png": "[encoded data removed]",
      "text/plain": [
       "<Figure size 600x400 with 2 Axes>"
      ]
     },
     "metadata": {},
     "output_type": "display_data"
    }
   ],
   "source": [
    "cm = confusion_matrix(y_test, lr_preds)\n",
    "plt.figure(figsize=(6, 4))\n",
    "sns.heatmap(cm, annot=True, fmt='d', cmap='Blues', xticklabels=[\"neg\", \"pos\"], yticklabels=[\"neg\", \"pos\"])\n",
    "plt.xlabel(\"Predicción\")\n",
    "plt.ylabel(\"Valor Real\")\n",
    "plt.title(\"Matriz de Confusión - Regresión Logística\")\n",
    "plt.show()\n"
   ]
  },
  {
   "cell_type": "markdown",
   "id": "94f0cb4d",
   "metadata": {},
   "source": [
    "🔹 Modelo 1: Naive Bayes\n",
    "\n",
    "Precisión (positivas): 83.1%\n",
    "\n",
    "Precisión (negativas): 83.2%\n",
    "\n",
    "F1 Score promedio: 83.1%\n",
    "\n",
    "Accuracy: 83.1%\n",
    "\n",
    "🔹 Modelo 2: Regresión Logística\n",
    "\n",
    "Precisión (positivas): 85.2%\n",
    "\n",
    "Precisión (negativas): 83.8%\n",
    "\n",
    "F1 Score promedio: 84.5%\n",
    "\n",
    "Accuracy: 84.5%\n",
    "\n",
    "📌 La regresión logística superó a Naive Bayes en todas las métricas.\n",
    "\n",
    "🔸 Matriz de confusión para Regresión Logística:\n",
    "\n",
    "Verdaderos negativos: 14,285\n",
    "\n",
    "Falsos positivos: 2,450\n",
    "\n",
    "Falsos negativos: 2,756\n",
    "\n",
    "Verdaderos positivos: 14,088"
   ]
  }
 ],
 "metadata": {
  "kernelspec": {
   "display_name": "Python 3",
   "language": "python",
   "name": "python3"
  },
  "language_info": {
   "codemirror_mode": {
    "name": "ipython",
    "version": 3
   },
   "file_extension": ".py",
   "mimetype": "text/x-python",
   "name": "python",
   "nbconvert_exporter": "python",
   "pygments_lexer": "ipython3",
   "version": "3.12.1"
  }
 },
 "nbformat": 4,
 "nbformat_minor": 5
}
